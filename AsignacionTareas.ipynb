{
 "cells": [
  {
   "cell_type": "code",
   "execution_count": 25,
   "id": "judicial-watson",
   "metadata": {},
   "outputs": [],
   "source": [
    "from ortools.sat.python import cp_model\n",
    "import collections\n",
    "import numpy as np"
   ]
  },
  {
   "cell_type": "markdown",
   "id": "c4283514-8562-4189-8443-da18fbf4843a",
   "metadata": {},
   "source": [
    "# Problema de Optimización Lineal Entera\n",
    "\n",
    "Nuestro objetivo es crear un modelo que sea capaz de asignar tareas a trabajadores indicando que herramientas utilizarán.  \n",
    "\n",
    "Para realizar esto consideraremos que un óptimo local aceptable será que la última tarea a realizar sea lo antes posible.  \n",
    "\n",
    "Por otro lado cabe destacar que para un conjunto de tareas $\\{{t_{1},\\ldots,t_{n} }\\}$ cada tarea $t_{i}$ estará asignada a un operador en un intervalo de tiempo $[s_{i,j}, e_{i,j}]$ donde s y e indican el inicio y termino de de la tarea i y el trabajador j.  \n",
    "\n",
    "Para un par de tareas $t_{i} \\: t_{ii}$  para el mismo operador se debe cumplir que $e_{i,j}<s_{ii,j}$ ó $e_{ii,j} < s_{i,j}$.  \n",
    "\n",
    "Del mismo modo podemos definir el solapamiento para las herramientas que se utilizaran para cada tarea.  \n",
    "\n",
    "Con respecto a las variables a utilizar en el problema utilizaremos las siguientes\n",
    "\n",
    "- T<sub>i</sub>  donde i hace referencia a una tarea i $\\in$ al conjunto total de Tareas  \n",
    "- O<sub>i</sub>  donde i hace referencia al operador i $\\in$ al conjunto total de Operadores  \n",
    "- A<sub>i, j</sub>  este valor es 1 si la tarea i se asigna al operador j, es 0 sino  \n",
    "- D<sub>i, j</sub>  Duración del trabajo i para el operador j  \n",
    "- C<sub>i, j</sub>  1 si el operador j esta habilitado para realizar i 0 \\~  \n",
    "- H<sub>k,i</sub> 1 si la tarea i se puede desarrollar con la herramienta k 0 \\~\n",
    "\n",
    "\n",
    "\n",
    "\\begin{aligned}\n",
    "    &Z= \\min(\\max (\\vec{T}) )_{i \\in [T_{1}, \\ldots, T_{n}] }\\\\\n",
    "    & \\text{sujeto a} \\\\\n",
    "    &  \\sum_{j=1}^{M}A_{I,j}*C_{I,j}=1 \\; \\forall \\: j \\in O\\\\\n",
    "    &  \\sum_{i=1}^{N} \\sum_{j=1}^{M}A_{i,j}=N \\; \\forall \\: j \\in O \\; y \\; \\forall \\: i \\in T \\\\\n",
    "     &\\sum_{i=1}^{N} t_i = N \\;  \\forall \\: t_{i} \\in T \\\\\n",
    "    &  \n",
    "\\end{aligned}\n",
    "\n",
    "\n",
    "\n",
    "\n",
    "\n",
    "\n"
   ]
  },
  {
   "cell_type": "code",
   "execution_count": 1,
   "id": "f4e656cc-6798-4cab-9e01-142aab08d4f5",
   "metadata": {},
   "outputs": [],
   "source": [
    "tareas = {\n",
    "    \"tarea_1\": {'disciplina':'electrica', \"duracion\": 5},\n",
    "    \"tarea_2\": {'disciplina':'electrica',  \"duracion\": 2},\n",
    "    \"tarea_3\": {'disciplina':'construccion',  \"duracion\": 1},\n",
    "    \"tarea_4\": {'disciplina':'electrica',  \"duracion\": 3},\n",
    "    \"tarea_5\": {'disciplina':'electrica',  \"duracion\": 6},\n",
    "    \"tarea_6\": {'disciplina':'construccion',  \"duracion\": 9},\n",
    "    \"tarea_7\": {'disciplina':'construccion',  \"duracion\": 2},\n",
    "    \"tarea_8\": {'disciplina':'construccion',  \"duracion\": 4},\n",
    "    \"tarea_9\": {'disciplina':'electrica',  \"duracion\": 1},\n",
    "    \"tarea_10\": {'disciplina':'construccion', \"duracion\": 7},\n",
    "}\n",
    "          \n",
    "operadores = {\n",
    "    \"BlancoEncalada\":{\"disciplina\":\"electrica\",\"eficiencia\": 1},\n",
    "    \"AnibalPinto\":{\"disciplina\":\"electrica\",\"eficiencia\": 2},\n",
    "    \"FedericoErrazuriz\":{\"disciplina\":\"construccion\",\"eficiencia\": 3},\n",
    "    \"ManuelMontt\":{\"disciplina\":\"construccion\",\"eficiencia\": 1},\n",
    "}\n",
    "\n"
   ]
  },
  {
   "cell_type": "code",
   "execution_count": 166,
   "id": "0b1e28d3-c632-4ad4-90b1-3a82263d72a1",
   "metadata": {},
   "outputs": [],
   "source": [
    "herramientas ={\n",
    "    \"1401\": {\"disciplina\":'electrica'},\n",
    "    \"1501\": {\"disciplina\":'construccion'},\n",
    "    \"1402\": {\"disciplina\":'electrica'},\n",
    "}\n",
    "entregas = {\n",
    "    \"tarea_1\": 15,\n",
    "    \"tarea_2\": 200,\n",
    "    \"tarea_3\": 16,\n",
    "    \"tarea_4\": 400,\n",
    "    \"tarea_5\": 400,\n",
    "    \"tarea_6\": 400,\n",
    "    \"tarea_7\": 400,\n",
    "    \"tarea_8\": 400,\n",
    "    \"tarea_9\": 400,\n",
    "    \"tarea_10\":400,\n",
    "}"
   ]
  },
  {
   "cell_type": "code",
   "execution_count": 167,
   "id": "f91c0c92-9f27-47e1-aee8-42d89b3c48f1",
   "metadata": {
    "scrolled": true
   },
   "outputs": [],
   "source": [
    "duracion = {'electrica': {'min':np.inf,'max':0}, 'construccion': {'min':np.inf,'max':0}}\n",
    "for key,dic in tareas.items():\n",
    "    for operador in operadores:\n",
    "        if operadores[operador]['disciplina']==dic['disciplina']:\n",
    "            duracion[dic['disciplina']]['max'] = max(duracion[dic['disciplina']]['max'], operadores[operador]['eficiencia'])\n",
    "            duracion[dic['disciplina']]['min'] = min(duracion[dic['disciplina']]['max'], operadores[operador]['eficiencia'])"
   ]
  },
  {
   "cell_type": "code",
   "execution_count": 168,
   "id": "e7f6e69f-0fb6-4a69-a35d-8043993ea135",
   "metadata": {},
   "outputs": [],
   "source": [
    "model = cp_model.CpModel()\n",
    "\n",
    "horizon = sum([dic['duracion']*duracion[dic['disciplina']]['max'] for tarea, dic in tareas.items()])\n",
    "\n",
    "presencias = {}  \n",
    "termino_tareas = []\n",
    "inicio_tareas = []\n",
    "solutions = {}\n",
    "intervalos_operadores = collections.defaultdict(list)\n",
    "\n",
    "for tarea in tareas:\n",
    "    sufijo = f\"_{tarea}\"\n",
    "    start = model.new_int_var(0, horizon, \"start\" + sufijo)\n",
    "    minima_duracion = tareas[tarea]['duracion']*duracion[tareas[tarea]['disciplina']]['min']\n",
    "    maxima_duracion = tareas[tarea]['duracion']*duracion[tareas[tarea]['disciplina']]['max']\n",
    "    duration = model.new_int_var(minima_duracion, maxima_duracion, \"duration\" + sufijo)\n",
    "    end = model.new_int_var(0, horizon, \"end\" + sufijo)\n",
    "    interval = model.new_interval_var(start, duration, end, \"interval\" + sufijo)\n",
    "    p_presences = []\n",
    "    for operador in operadores:\n",
    "        if tareas[tarea]['disciplina'] == operadores[operador]['disciplina']:\n",
    "            alternativa_sufijo = f\"_j{tarea}_o{operador}\"\n",
    "            p_presence = model.new_bool_var(\"presence\" + alternativa_sufijo)\n",
    "            p_start = model.new_int_var(0, horizon, \"start\" + alternativa_sufijo)\n",
    "            p_duration = tareas[tarea]['duracion'] * operadores[operador]['eficiencia']\n",
    "            p_end = model.new_int_var(0, horizon, \"end\" + alternativa_sufijo)\n",
    "            p_interval = model.new_optional_interval_var(p_start, p_duration, p_end, p_presence, \"interval\" + alternativa_sufijo)\n",
    "            p_presences.append(p_presence)\n",
    "\n",
    "            model.add(start == p_start).only_enforce_if(p_presence)\n",
    "            model.add(duration == p_duration).only_enforce_if(p_presence)\n",
    "            model.add(end == p_end).only_enforce_if(p_presence)\n",
    "\n",
    "            presencias[(tarea, operador)] = p_presence\n",
    "            operator_interval = model.new_interval_var(start, duration, end, \"interval\" + sufijo)\n",
    "            intervalos_operadores[operador].append(p_interval)\n",
    "            \n",
    "            \n",
    "\n",
    "    model.add_exactly_one(p_presences) #model.Add(sum(array_of_vars) == 1)\n",
    "    inicio_tareas.append(start)\n",
    "    termino_tareas.append(end)\n",
    "    solutions[tarea] = {'inicio': start, 'termino': end}\n",
    "    \n",
    "for operador in operadores:\n",
    "    model.add_no_overlap(intervalos_operadores[operador])\n"
   ]
  },
  {
   "cell_type": "code",
   "execution_count": 170,
   "id": "406baed9-435b-4a01-9ff3-5f57c48eecf3",
   "metadata": {},
   "outputs": [
    {
     "name": "stdout",
     "output_type": "stream",
     "text": [
      "Tiempo total mínimo (makespan): 34\n",
      "\n"
     ]
    }
   ],
   "source": [
    "makespan = model.new_int_var(0, horizon, \"makespan\")\n",
    "model.add_max_equality(makespan, termino_tareas)\n",
    "model.minimize(makespan)\n",
    "\n",
    "solver = cp_model.CpSolver()\n",
    "status = solver.Solve(model)\n",
    "\n",
    "out = []\n",
    "if status == cp_model.OPTIMAL or status == cp_model.FEASIBLE:\n",
    "    # Mostrar makespan\n",
    "    print(f\"Tiempo total mínimo (makespan): {solver.Value(makespan)}\\n\")\n",
    "    \n",
    "    # Mostrar inicio y fin de tareas\n",
    "    for key in presencias:\n",
    "        if solver.Value(presencias[key]):\n",
    "            out.append([key[0], key[1], solver.Value(solutions[key[0]]['inicio']), solver.Value(solutions[key[0]]['termino'])])\n",
    "\n",
    "else:\n",
    "    print(\"No se encontró solución.\")"
   ]
  },
  {
   "cell_type": "code",
   "execution_count": 192,
   "id": "3de32bae-679d-464e-91a7-8d882e5e6654",
   "metadata": {},
   "outputs": [
    {
     "name": "stdout",
     "output_type": "stream",
     "text": [
      "AnibalPinto: 0 12....12 22....22 28....28 32....32 34....\n",
      "ManuelMontt: 0 1....1 5....5 12....\n",
      "FedericoErrazuriz: 0 6....6 33....\n"
     ]
    }
   ],
   "source": [
    "solucion = {i:[] for i in list(set([values[1] for values in out]))}\n",
    "for w in out:\n",
    "    solucion[w[1]].append([w[2], w[3]])\n",
    "    \n",
    "for k, l in solucion.items():\n",
    "    print(k, end=': ')\n",
    "    inicio = [i[0] for i in l]\n",
    "    termino = [i[1] for i in l]\n",
    "    inicio.sort()\n",
    "    termino.sort()\n",
    "    for n, i in enumerate(inicio):\n",
    "        print(i, termino[n], end=\"....\")\n",
    "    print()"
   ]
  },
  {
   "cell_type": "code",
   "execution_count": null,
   "id": "b506dff1-d327-49b6-9137-18a92a4029be",
   "metadata": {},
   "outputs": [],
   "source": []
  },
  {
   "cell_type": "code",
   "execution_count": null,
   "id": "4ce4d714-b152-4488-b7f9-b25cbb246dc2",
   "metadata": {},
   "outputs": [],
   "source": []
  }
 ],
 "metadata": {
  "kernelspec": {
   "display_name": "Python 3 (ipykernel)",
   "language": "python",
   "name": "python3"
  },
  "language_info": {
   "codemirror_mode": {
    "name": "ipython",
    "version": 3
   },
   "file_extension": ".py",
   "mimetype": "text/x-python",
   "name": "python",
   "nbconvert_exporter": "python",
   "pygments_lexer": "ipython3",
   "version": "3.11.0"
  }
 },
 "nbformat": 4,
 "nbformat_minor": 5
}
