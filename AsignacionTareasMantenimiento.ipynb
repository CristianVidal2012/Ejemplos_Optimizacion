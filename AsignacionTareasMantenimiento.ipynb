{
 "cells": [
  {
   "cell_type": "code",
   "execution_count": 2,
   "id": "056c87ab-1628-4ba5-95b2-0cc3fde68845",
   "metadata": {},
   "outputs": [],
   "source": [
    "from ortools.sat.python import cp_model"
   ]
  },
  {
   "cell_type": "markdown",
   "id": "31e3eb41-ddb4-498b-a0fb-788d99982779",
   "metadata": {},
   "source": [
    "# Asignación de tareas con periodos de mantenimientos por uso acumulativo\n",
    "\n",
    "El objetivo de este modelo es asignar un calendario de trabajos a un conjunto de maquina con la premisa de que cada máquina debe pasarpor un mantenimiento preventivo cada 80 horas de uso acumulado.\n",
    "\n",
    "En esta oportunidad se necesitan al menos 4 maquinas para cumplir con la cuota productiva, se disponen de 4 hangares de mantenimiento y se busca generar un calendario de trabajo para 10 máquinas cubriendo 24 periodos de trabajo (cada periodo de trabajo puede ser de 8 horas por lo que los 24 periodos hace referencia a 8 días de programación)\n",
    "\n",
    "Del mismo modo se puede utilizar el algebra para modelar un problema asi, esto dara una noción acertada de lo que se busca crear pero con la ayuda de las funciones de ortools el diseño será intuitivo.\n",
    "\n",
    "- X<sub>i, t</sub>  Es 1 si la máquina i es asignada a trabajar en el periodo t 0 \\~\n",
    "- M<sub>i, t</sub> Es 1 si la máquina i es asignada a un mantenimiento en el periodo t 0\\~\n",
    "- A<sub>i,T</sub> Representa la suma acumulativa de la cantidad de periodos trabajados ($\\sum_{i}^{T}X_{i,T}$)\n",
    "\n",
    "Nuevamente para asignar las horas de trabajo a las máquinas necesitamos saber que tipo de función vamos a optimizar. En esta oportunidad podemos considerar que mantener una mínima fila de máquinas esperando el mantenimiento nos indicaría que estamos haciendo un uso mesurado de los equipos. \n",
    "\n",
    "¿Cual es el argumento de esta premisa?\n",
    "* Al tener la mayor cantidad de máquinas operativas le doy resiliencia a los paros a la linea de producción. Dado que siempre tendre el máximo número de maquinas disponibles para cubrir los turnos\n",
    "\n",
    "\\begin{aligned}\n",
    "    &Z= \\min(\\sum_{t=0}^{20}\\sum_{i}^{M} (M_{i,t}) )_{i \\in [maquina_{1}, \\ldots, maquina_{n}] }\\\\\n",
    "    & \\text{sujeto a} \\\\\n",
    "    &  \\sum_{i}^{M}X_{i, T}=\\text{necesidad operativa} \\; \\forall \\: i \\in Maquinas\\\\\n",
    "    &  \\sum_{i}^{M} M{i, T}=\\text{hangares disponibles} \\; \\forall \\: i \\in Maquinas\\\\\n",
    "    & \\sum_{i=1}^{M} X_{i,T} + M_{i, T}\\leq 1 \\;  \\forall \\: i \\in Maquinas \\\\\n",
    "    &  \\sum_{t}^{T}A_{I,t} = \\sum_{t}^{T} A_{I,t-1} + X_{I, t}\\\\\n",
    "\\end{aligned}"
   ]
  },
  {
   "cell_type": "code",
   "execution_count": 3,
   "id": "2e468b8f-91fc-4798-b61e-6361be5fbaf1",
   "metadata": {},
   "outputs": [],
   "source": [
    "# Parámetros del problema\n",
    "num_maquinas = 10\n",
    "necesidad_operativa = 4\n",
    "tiempo_trabajo = 8\n",
    "num_periodos = 20  \n",
    "umbrales_mantenimiento = [80]  # 80 horas\n",
    "hangares_disponibles = 4 "
   ]
  },
  {
   "cell_type": "code",
   "execution_count": 4,
   "id": "8b1d097d-0695-4532-a006-48bf454fc0a2",
   "metadata": {},
   "outputs": [],
   "source": [
    "model = cp_model.CpModel()\n",
    "\n",
    "# Variables\n",
    "x = {}\n",
    "for i in range(num_maquinas):\n",
    "    for t in range(num_periodos):\n",
    "        x[i, t] = model.NewBoolVar(f'x[{i},{t}]')  # Si la máquina i trabaja en el periodo t\n",
    "\n",
    "mantenimiento = {}\n",
    "for i in range(num_maquinas):\n",
    "    for t in range(num_periodos):\n",
    "        mantenimiento[i, t] = model.NewBoolVar(f'mantenimiento[{i},{t}]')  # Si la máquina i está en mantenimiento en el periodo t\n",
    "\n",
    "acumulado = {}\n",
    "acumulado_real = {}\n",
    "for i in range(num_maquinas):\n",
    "    for t in range(num_periodos):\n",
    "        acumulado[i, t] = model.NewIntVar(0, max(umbrales_mantenimiento)//tiempo_trabajo, f'acumulado[{i},{t}]')  # Horas acumuladas de la máquina i\n",
    "        acumulado_real[i, t] = model.NewIntVar(0, max(umbrales_mantenimiento)//tiempo_trabajo, f'acumulado_real[{i},{t}]')  # Valor efectivo del acumulado\n",
    "\n",
    "# Restricciones\n",
    "for t in range(num_periodos):\n",
    "    model.Add(sum(x[i, t] for i in range(num_maquinas)) == necesidad_operativa)\n",
    "\n",
    "    # No más  hangares_disponibles que máquinas en mantenimiento\n",
    "    model.Add(sum(mantenimiento[i, t] for i in range(num_maquinas)) <= hangares_disponibles)\n",
    "\n",
    "for i in range(num_maquinas):\n",
    "    for t in range(num_periodos):\n",
    "        # Una máquina no puede trabajar y estar en mantenimiento al mismo tiempo\n",
    "        model.Add(x[i, t] + mantenimiento[i, t] <= 1)\n",
    "\n",
    "        if t == 0:\n",
    "            # Acumulado inicial es el trabajo en el primer periodo\n",
    "            model.Add(acumulado[i, t] == x[i, t])\n",
    "        else:\n",
    "            # Acumulado sin mantenimiento\n",
    "            model.Add(acumulado_real[i, t] == acumulado[i, t - 1] + x[i, t])\n",
    "\n",
    "            # Acumulado efectivo con mantenimiento (se resetea si hay mantenimiento)\n",
    "            model.Add(acumulado[i, t] == acumulado_real[i, t]).OnlyEnforceIf(mantenimiento[i, t].Not())\n",
    "            model.Add(acumulado[i, t] == 0).OnlyEnforceIf(mantenimiento[i, t])\n",
    "\n",
    "        # Si alcanza el umbral de mantenimiento, debe parar para mantenimiento\n",
    "        for umbral in umbrales_mantenimiento:\n",
    "            model.Add(acumulado[i, t] < umbral + mantenimiento[i, t] * (umbral + 1))\n",
    "\n",
    "# Función objetivo: minimizar periodos de espera para mantenimiento\n",
    "model.Minimize(sum(mantenimiento[i, t] for i in range(num_maquinas) for t in range(num_periodos)))\n"
   ]
  },
  {
   "cell_type": "code",
   "execution_count": 5,
   "id": "31b3ebbc-5992-400e-be5f-1e6b9bc995a1",
   "metadata": {},
   "outputs": [
    {
     "name": "stdout",
     "output_type": "stream",
     "text": [
      "Solución encontrada:\n",
      "Maquina_1: 1 ... 3 ... 5 ... 6 ... 7 ... 8 ... 12 ... 13 ... 15 ... 16\n",
      "Maquina_2: 1 ... 2 ... 4 ... 5 ... 6 ... 9 ... 10 ... 11 ... 16 ... 19\n",
      "Maquina_3: 2 ... 4 ... 5 ... 6 ... 10 ... 11 ... 13 ... 14 ... 15 ... 16\n",
      "Maquina_4: 1 ... 3 ... 4 ... 7 ... 10 ... 11 ... 12 ... 13 ... 14 ... 18\n",
      "Maquina_5: 2 ... 3 ... 7 ... 10 ... 11 ... 12 ... 13 ... 14 ... 17 ... 18\n",
      "Maquina_6: 0 ... 2 ... 3 ... 4 ... 5 ... 8 ... 9 ... 12 ... 15 ... 19\n",
      "Maquina_7: 0 ... 8 ... 9\n",
      "Maquina_8: 0 ... 6 ... 8 ... 16 ... 17 ... 18\n",
      "Maquina_9: 0 ... 1 ... 17 ... 18 ... 19\n",
      "Maquina_10: 7 ... 9 ... 14 ... 15 ... 17 ... 19\n"
     ]
    }
   ],
   "source": [
    "# Solucionador\n",
    "solver = cp_model.CpSolver()\n",
    "solver.parameters.max_time_in_seconds = 120\n",
    "status = solver.Solve(model)\n",
    "\n",
    "if status in (cp_model.OPTIMAL, cp_model.FEASIBLE):\n",
    "    print(\"Solución encontrada:\")\n",
    "    for i in range(num_maquinas):\n",
    "        periodos = []\n",
    "        for t in range(num_periodos):\n",
    "            if solver.Value(x[i, t]) == 1:\n",
    "                periodos.append(t)\n",
    "\n",
    "        # Agrupar periodos consecutivos y mostrar en formato legible\n",
    "        horarios = []\n",
    "        inicio = None\n",
    "        for j in range(len(periodos)):\n",
    "            if inicio is None:\n",
    "                inicio = periodos[j]\n",
    "            if j == len(periodos) - 1 or periodos[j + 1] != periodos[j]:\n",
    "                if inicio == periodos[j]:\n",
    "                    horarios.append(f\"{inicio}\")\n",
    "                else:\n",
    "                    horarios.append(f\"{inicio} {periodos[j]}\")\n",
    "                if j < len(periodos) - 1:\n",
    "                    horarios.append(\"...\")\n",
    "                inicio = None\n",
    "        print(f\"Maquina_{i+1}: {' '.join(horarios)}\")\n",
    "else:\n",
    "    print(\"No se encontró solución factible.\")"
   ]
  },
  {
   "cell_type": "code",
   "execution_count": null,
   "id": "fc9f7be0-79d7-4fdf-bbe7-e673d30813da",
   "metadata": {},
   "outputs": [],
   "source": [
    "\n"
   ]
  },
  {
   "cell_type": "code",
   "execution_count": null,
   "id": "58ac9d09-a046-4de1-94af-ff7ee6de6ece",
   "metadata": {},
   "outputs": [],
   "source": []
  },
  {
   "cell_type": "code",
   "execution_count": null,
   "id": "e9f9a1cc-853d-45bb-9304-abbac2f0c702",
   "metadata": {},
   "outputs": [],
   "source": []
  }
 ],
 "metadata": {
  "kernelspec": {
   "display_name": "Python 3 (ipykernel)",
   "language": "python",
   "name": "python3"
  },
  "language_info": {
   "codemirror_mode": {
    "name": "ipython",
    "version": 3
   },
   "file_extension": ".py",
   "mimetype": "text/x-python",
   "name": "python",
   "nbconvert_exporter": "python",
   "pygments_lexer": "ipython3",
   "version": "3.11.0"
  }
 },
 "nbformat": 4,
 "nbformat_minor": 5
}
